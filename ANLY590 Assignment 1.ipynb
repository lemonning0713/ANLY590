{
 "cells": [
  {
   "cell_type": "markdown",
   "metadata": {},
   "source": [
    "# ANLY 590 Assignment 1"
   ]
  },
  {
   "cell_type": "markdown",
   "metadata": {},
   "source": [
    "## 1 Regularization\n",
    "Using the accompanying Hitters dataset, we will explore \n",
    "regression models to predict a player’s Salary from other variables. You must python.\n",
    "https://gist.github.com/keeganhines/59974f1ebef97bbaa44fb19143f90bad"
   ]
  },
  {
   "cell_type": "code",
   "execution_count": 1,
   "metadata": {},
   "outputs": [],
   "source": [
    "# Import libraries\n",
    "import pandas as pd\n",
    "import numpy as np\n",
    "import matplotlib.pyplot as plt"
   ]
  },
  {
   "cell_type": "code",
   "execution_count": 2,
   "metadata": {},
   "outputs": [],
   "source": [
    "# Import dataset\n",
    "hitter = pd.read_csv(\"Hitters.csv\")\n",
    "\n",
    "# Drop the unnamed column\n",
    "hitter = hitter.loc[:, ~hitter.columns.str.contains('^Unnamed')]"
   ]
  },
  {
   "cell_type": "code",
   "execution_count": null,
   "metadata": {},
   "outputs": [],
   "source": []
  },
  {
   "cell_type": "markdown",
   "metadata": {},
   "source": [
    "#### Run basic data exploration"
   ]
  },
  {
   "cell_type": "code",
   "execution_count": 3,
   "metadata": {},
   "outputs": [
    {
     "name": "stdout",
     "output_type": "stream",
     "text": [
      "Hitters dataset has 322 rows and 20 columns.\n",
      "\n",
      "Hitters dataset na rows:\n",
      " AtBat         0\n",
      "Hits          0\n",
      "HmRun         0\n",
      "Runs          0\n",
      "RBI           0\n",
      "Walks         0\n",
      "Years         0\n",
      "CAtBat        0\n",
      "CHits         0\n",
      "CHmRun        0\n",
      "CRuns         0\n",
      "CRBI          0\n",
      "CWalks        0\n",
      "League        0\n",
      "Division      0\n",
      "PutOuts       0\n",
      "Assists       0\n",
      "Errors        0\n",
      "Salary       59\n",
      "NewLeague     0\n",
      "dtype: int64\n",
      "\n",
      "Hitters dataset summary:\n",
      "             AtBat        Hits       HmRun        Runs         RBI       Walks  \\\n",
      "count  322.000000  322.000000  322.000000  322.000000  322.000000  322.000000   \n",
      "mean   380.928571  101.024845   10.770186   50.909938   48.027950   38.742236   \n",
      "std    153.404981   46.454741    8.709037   26.024095   26.166895   21.639327   \n",
      "min     16.000000    1.000000    0.000000    0.000000    0.000000    0.000000   \n",
      "25%    255.250000   64.000000    4.000000   30.250000   28.000000   22.000000   \n",
      "50%    379.500000   96.000000    8.000000   48.000000   44.000000   35.000000   \n",
      "75%    512.000000  137.000000   16.000000   69.000000   64.750000   53.000000   \n",
      "max    687.000000  238.000000   40.000000  130.000000  121.000000  105.000000   \n",
      "\n",
      "            Years       CAtBat        CHits      CHmRun        CRuns  \\\n",
      "count  322.000000    322.00000   322.000000  322.000000   322.000000   \n",
      "mean     7.444099   2648.68323   717.571429   69.490683   358.795031   \n",
      "std      4.926087   2324.20587   654.472627   86.266061   334.105886   \n",
      "min      1.000000     19.00000     4.000000    0.000000     1.000000   \n",
      "25%      4.000000    816.75000   209.000000   14.000000   100.250000   \n",
      "50%      6.000000   1928.00000   508.000000   37.500000   247.000000   \n",
      "75%     11.000000   3924.25000  1059.250000   90.000000   526.250000   \n",
      "max     24.000000  14053.00000  4256.000000  548.000000  2165.000000   \n",
      "\n",
      "              CRBI       CWalks      PutOuts     Assists      Errors  \\\n",
      "count   322.000000   322.000000   322.000000  322.000000  322.000000   \n",
      "mean    330.118012   260.239130   288.937888  106.913043    8.040373   \n",
      "std     333.219617   267.058085   280.704614  136.854876    6.368359   \n",
      "min       0.000000     0.000000     0.000000    0.000000    0.000000   \n",
      "25%      88.750000    67.250000   109.250000    7.000000    3.000000   \n",
      "50%     220.500000   170.500000   212.000000   39.500000    6.000000   \n",
      "75%     426.250000   339.250000   325.000000  166.000000   11.000000   \n",
      "max    1659.000000  1566.000000  1378.000000  492.000000   32.000000   \n",
      "\n",
      "            Salary  \n",
      "count   263.000000  \n",
      "mean    535.925882  \n",
      "std     451.118681  \n",
      "min      67.500000  \n",
      "25%     190.000000  \n",
      "50%     425.000000  \n",
      "75%     750.000000  \n",
      "max    2460.000000  \n"
     ]
    },
    {
     "data": {
      "text/plain": [
       "AtBat          int64\n",
       "Hits           int64\n",
       "HmRun          int64\n",
       "Runs           int64\n",
       "RBI            int64\n",
       "Walks          int64\n",
       "Years          int64\n",
       "CAtBat         int64\n",
       "CHits          int64\n",
       "CHmRun         int64\n",
       "CRuns          int64\n",
       "CRBI           int64\n",
       "CWalks         int64\n",
       "League        object\n",
       "Division      object\n",
       "PutOuts        int64\n",
       "Assists        int64\n",
       "Errors         int64\n",
       "Salary       float64\n",
       "NewLeague     object\n",
       "dtype: object"
      ]
     },
     "execution_count": 3,
     "metadata": {},
     "output_type": "execute_result"
    }
   ],
   "source": [
    "# Check dataframe shape\n",
    "print(\"Hitters dataset has\", hitter.shape[0], \"rows and\", hitter.shape[1], \"columns.\\n\")\n",
    "\n",
    "# Counr na rows in the dataframe\n",
    "print(\"Hitters dataset na rows:\\n\", hitter.isna().sum())\n",
    "\n",
    "# Get summary of dataframe\n",
    "print(\"\\nHitters dataset summary:\\n\",hitter.describe())\n",
    "\n",
    "# Get types of each predictor\n",
    "hitter.dtypes"
   ]
  },
  {
   "cell_type": "code",
   "execution_count": 4,
   "metadata": {},
   "outputs": [],
   "source": [
    "# Drop na rows, since salary is the response variable\n",
    "hitter = hitter.dropna()"
   ]
  },
  {
   "cell_type": "code",
   "execution_count": 5,
   "metadata": {},
   "outputs": [],
   "source": [
    "# Drop response variable and categorical predictors\n",
    "hitter_pred= hitter.drop(['Salary','League', 'Division', 'NewLeague'], axis=1)\n",
    "\n",
    "# Prepare response variable\n",
    "hitter_y = hitter['Salary']"
   ]
  },
  {
   "cell_type": "code",
   "execution_count": 6,
   "metadata": {},
   "outputs": [
    {
     "name": "stdout",
     "output_type": "stream",
     "text": [
      "StandardScaler(copy=True, with_mean=True, with_std=True)\n"
     ]
    }
   ],
   "source": [
    "# Normalize the dataset\n",
    "from sklearn.preprocessing import StandardScaler\n",
    "scaler = StandardScaler()\n",
    "print(scaler.fit(hitter_pred))\n",
    "hitter_X = scaler.transform(hitter_pred)"
   ]
  },
  {
   "cell_type": "code",
   "execution_count": null,
   "metadata": {},
   "outputs": [],
   "source": []
  },
  {
   "cell_type": "markdown",
   "metadata": {},
   "source": [
    "## 1.1\n",
    "Use LASSO regression to predict Salary from the other numeric predictors.\n",
    "Create a visualization of the coefficient trajectories. Comment on which are the\n",
    "final three predictors that remain in the model. Use cross-validation to find the\n",
    "optimal value of the regularization penality. How many predictors are left in\n",
    "that model?"
   ]
  },
  {
   "cell_type": "code",
   "execution_count": 7,
   "metadata": {},
   "outputs": [],
   "source": [
    "# Import libraries\n",
    "from sklearn.linear_model import Lasso\n",
    "from sklearn.linear_model import lasso_path\n",
    "from sklearn.linear_model import LassoCV\n",
    "from sklearn.model_selection import GridSearchCV"
   ]
  },
  {
   "cell_type": "code",
   "execution_count": 8,
   "metadata": {},
   "outputs": [],
   "source": [
    "lasso = Lasso(normalize = True, max_iter = 10000)"
   ]
  },
  {
   "cell_type": "code",
   "execution_count": 9,
   "metadata": {},
   "outputs": [
    {
     "data": {
      "text/plain": [
       "Lasso(alpha=1.0, copy_X=True, fit_intercept=True, max_iter=10000,\n",
       "   normalize=True, positive=False, precompute=False, random_state=None,\n",
       "   selection='cyclic', tol=0.0001, warm_start=False)"
      ]
     },
     "execution_count": 9,
     "metadata": {},
     "output_type": "execute_result"
    }
   ],
   "source": [
    "lasso.fit(hitter_X, hitter_y)"
   ]
  },
  {
   "cell_type": "code",
   "execution_count": 10,
   "metadata": {},
   "outputs": [],
   "source": [
    "# Create visualization of the coefficient trajectories\n",
    "alphas_lasso, coefs_lasso, _ = lasso_path(hitter_X, hitter_y, 5e-4, fit_intercept = False)"
   ]
  },
  {
   "cell_type": "code",
   "execution_count": 11,
   "metadata": {
    "scrolled": true
   },
   "outputs": [
    {
     "data": {
      "text/plain": [
       "<matplotlib.legend.Legend at 0x1a1a8ee6d8>"
      ]
     },
     "execution_count": 11,
     "metadata": {},
     "output_type": "execute_result"
    },
    {
     "data": {
      "image/png": "[encoded data removed]",
      "text/plain": [
       "<Figure size 432x288 with 1 Axes>"
      ]
     },
     "metadata": {},
     "output_type": "display_data"
    }
   ],
   "source": [
    "# Create visualization for Lasso coefficient trajectories\n",
    "plt.figure()\n",
    "\n",
    "neg_log_alphas_lasso = -np.log10(alphas_lasso)\n",
    "\n",
    "for coef_l in coefs_lasso:\n",
    "    l1 = plt.plot(neg_log_alphas_lasso, coef_l)\n",
    "plt.xlabel('-Log(alpha)')\n",
    "plt.ylabel('Coefficients')\n",
    "plt.title('Lasso Coefficient Trajectories')\n",
    "plt.legend(hitter_pred.columns.tolist(), loc = 'center right', bbox_to_anchor=(1.3, 0.5))\n"
   ]
  },
  {
   "cell_type": "code",
   "execution_count": 12,
   "metadata": {},
   "outputs": [
    {
     "data": {
      "text/plain": [
       "['Hits', 'CRuns', 'CRBI']"
      ]
     },
     "execution_count": 12,
     "metadata": {},
     "output_type": "execute_result"
    }
   ],
   "source": [
    "# Use for loop to print out the last three coefficients\n",
    "for i in range(len(coefs_lasso[0])):\n",
    "    if len([elem for elem in [item[i] for item in coefs_lasso] if elem != 0]) == 3:\n",
    "        coef_list = [item[i] for item in coefs_lasso]\n",
    "\n",
    "# Print out the position index of the last three coefficients\n",
    "coef_idx = [idx for idx, val in enumerate(coef_list) if val != 0] \n",
    "\n",
    "#Print out the predictors based on the indices\n",
    "list(hitter_pred.columns[coef_idx])"
   ]
  },
  {
   "cell_type": "markdown",
   "metadata": {},
   "source": [
    "The final three predictors that remain in the model are 'Hits', 'CRuns', 'CRBI'."
   ]
  },
  {
   "cell_type": "code",
   "execution_count": 13,
   "metadata": {
    "scrolled": true
   },
   "outputs": [],
   "source": [
    "# Use GridSearchCV to find the optimal value of the regularization penality\n",
    "\n",
    "# n_folds = 10\n",
    "# parameters = {'alpha': np.arange(-100, 100, 0.1)}\n",
    "# lasso_regressor = GridSearchCV(lasso, parameters, scoring = 'neg_mean_squared_error', cv = n_folds)\n",
    "# lasso_regressor.fit(hitter_X, hitter_y)\n",
    "\n",
    "# print(lasso_regressor.best_params_)\n",
    "# print(lasso_regressor.best_score_)\n"
   ]
  },
  {
   "cell_type": "code",
   "execution_count": 14,
   "metadata": {},
   "outputs": [
    {
     "name": "stdout",
     "output_type": "stream",
     "text": [
      "The optimal value of the lasso regularization penality is 0.9611207059719769, \n",
      "and 15 predictors are left in that model\n"
     ]
    }
   ],
   "source": [
    "# Use LassoCV to find the optimal value of the regularization penality\n",
    "lasso_cv = LassoCV(cv = 10, random_state = 0).fit(hitter_X, hitter_y)\n",
    "lasso_alpha = lasso_cv.alpha_\n",
    "\n",
    "# Find the number of predictors that are left in that model\n",
    "lasso_remain = len([item for item in lasso_cv.coef_ if item !=0])\n",
    "\n",
    "print(\"The optimal value of the lasso regularization penality is\", str(lasso_alpha) + \", \\nand\", \n",
    "      lasso_remain, \"predictors are left in that model\")"
   ]
  },
  {
   "cell_type": "code",
   "execution_count": null,
   "metadata": {},
   "outputs": [],
   "source": []
  },
  {
   "cell_type": "markdown",
   "metadata": {},
   "source": [
    "## 1.2\n",
    "Repeat with Ridge Regression. Visualize coeffecient trajectories. Use crossvalidation to find the optimal vaule of the regularization penalty."
   ]
  },
  {
   "cell_type": "code",
   "execution_count": 15,
   "metadata": {},
   "outputs": [],
   "source": [
    "# Import libraries\n",
    "from sklearn.linear_model import Ridge\n",
    "from sklearn.linear_model import RidgeCV"
   ]
  },
  {
   "cell_type": "code",
   "execution_count": 16,
   "metadata": {},
   "outputs": [],
   "source": [
    "# Compute paths\n",
    "n_alphas = 200\n",
    "alphas = np.logspace(-10, 5, n_alphas)\n",
    "\n",
    "ridge_coefs = []\n",
    "for elem in alphas:\n",
    "    ridge = Ridge(alpha = elem, fit_intercept = False)\n",
    "    ridge.fit(hitter_X, hitter_y)\n",
    "    ridge_coefs.append(ridge.coef_)\n"
   ]
  },
  {
   "cell_type": "code",
   "execution_count": 17,
   "metadata": {
    "scrolled": true
   },
   "outputs": [
    {
     "data": {
      "image/png": "[encoded data removed]",
      "text/plain": [
       "<Figure size 432x288 with 1 Axes>"
      ]
     },
     "metadata": {},
     "output_type": "display_data"
    }
   ],
   "source": [
    "# Create visualization for Ridge coefficient trajectories\n",
    "ax = plt.gca()\n",
    "\n",
    "ax.plot(alphas, ridge_coefs)\n",
    "ax.set_xscale('log')\n",
    "ax.set_xlim(ax.get_xlim()[::-1])  # Reverse axis\n",
    "plt.xlabel('alpha')\n",
    "plt.ylabel('Coefficients')\n",
    "plt.title('Ridge Coefficient Trajectories')\n",
    "plt.legend(hitter_pred.columns.tolist(), loc = 'center right', bbox_to_anchor=(1.3, 0.5))\n",
    "plt.show()"
   ]
  },
  {
   "cell_type": "code",
   "execution_count": 18,
   "metadata": {},
   "outputs": [
    {
     "name": "stdout",
     "output_type": "stream",
     "text": [
      "The optimal value of the ridge regularization penality is 230.04301197729123, \n",
      "and 16 predictors are left in that model\n"
     ]
    }
   ],
   "source": [
    "# Use RidgeCV to find the optimal value of the regularization penality\n",
    "ridge_cv = RidgeCV(alphas = alphas, cv = 10).fit(hitter_X, hitter_y)\n",
    "ridge_alpha = ridge_cv.alpha_\n",
    "\n",
    "# Find the number of predictors that are left in that model\n",
    "ridge_remain = len([item for item in ridge_cv.coef_ if item !=0])\n",
    "\n",
    "print(\"The optimal value of the ridge regularization penality is\", str(ridge_alpha) + \", \\nand\", \n",
    "      ridge_remain, \"predictors are left in that model\")"
   ]
  },
  {
   "cell_type": "code",
   "execution_count": null,
   "metadata": {},
   "outputs": [],
   "source": []
  },
  {
   "cell_type": "markdown",
   "metadata": {},
   "source": [
    "## 2 \n",
    "__Short Answer__. Explain in your own words the bias-variance tradeoff. What\n",
    "role does regularization play in this tradeoff? Make reference to your findings\n",
    "in number (1) to describe models of high/low bias and variance."
   ]
  },
  {
   "cell_type": "markdown",
   "metadata": {},
   "source": [
    "The bias-variance tradeoff is a common term in statistical learning and machine learning. Variance refers to the amount of change in targeting variables when new data set is being used. Bias refers to the error when predicting using new data. And the bias-variance tradeoff means as the model becomes more flexible, the variance will increase and bias will decrease, which means if one wants to decrease bias, he/she must also sacrifices some variance, and vice versa. And there will exist an optimal point, where both the bias and the variance are low.  "
   ]
  },
  {
   "cell_type": "markdown",
   "metadata": {},
   "source": [
    "Regularization can significantly reduce variance as it shrinks the corfficient estimates. It reduces variance by add a shrinkage penalty term, so that the coefficient estimates can be constrained or regularized. "
   ]
  },
  {
   "cell_type": "markdown",
   "metadata": {},
   "source": [
    "From the result in part1, as the shrinkage penalty grows, the ridge regression coefficient estimates will approach zero and lasso regression coefficient estimates will become zero and thus regularize the model, and the bias stars to increase while the variance starts to decrease. By using LassoCV and RidgeCV, we can find the optimal value of regularization penality, after that point the the variance may keep decreasing but bias may become extramely large."
   ]
  },
  {
   "cell_type": "code",
   "execution_count": null,
   "metadata": {},
   "outputs": [],
   "source": []
  }
 ],
 "metadata": {
  "kernelspec": {
   "display_name": "Python 3",
   "language": "python",
   "name": "python3"
  },
  "language_info": {
   "codemirror_mode": {
    "name": "ipython",
    "version": 3
   },
   "file_extension": ".py",
   "mimetype": "text/x-python",
   "name": "python",
   "nbconvert_exporter": "python",
   "pygments_lexer": "ipython3",
   "version": "3.6.8"
  }
 },
 "nbformat": 4,
 "nbformat_minor": 2
}
